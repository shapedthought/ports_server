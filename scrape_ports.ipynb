{
 "cells": [
  {
   "cell_type": "markdown",
   "metadata": {},
   "source": [
    "Import the packages"
   ]
  },
  {
   "cell_type": "code",
   "execution_count": 1,
   "metadata": {
    "executionInfo": {
     "elapsed": 387,
     "status": "ok",
     "timestamp": 1720537360401,
     "user": {
      "displayName": "Ed Howard (Mr X)",
      "userId": "07534693404549688478"
     },
     "user_tz": -60
    },
    "id": "CwoONobPZS16"
   },
   "outputs": [],
   "source": [
    "import pandas as pd\n",
    "import sqlite3\n",
    "import numpy as np\n",
    "import requests\n",
    "import io"
   ]
  },
  {
   "cell_type": "markdown",
   "metadata": {},
   "source": [
    "All the URLS for each of the port pages."
   ]
  },
  {
   "cell_type": "code",
   "execution_count": 2,
   "metadata": {},
   "outputs": [
    {
     "data": {
      "text/plain": [
       "17"
      ]
     },
     "execution_count": 2,
     "metadata": {},
     "output_type": "execute_result"
    }
   ],
   "source": [
    "url_vbo = \"https://helpcenter.veeam.com/docs/vbo365/guide/vbo_used_ports.html\"\n",
    "url_vbr = \"https://helpcenter.veeam.com/docs/backup/vsphere/used_ports.html\"\n",
    "url_hyperv = \"https://helpcenter.veeam.com/docs/backup/hyperv/used_ports.html\"\n",
    "url_ahv = \"https://helpcenter.veeam.com/docs/vbahv/userguide/used_ports.html\"\n",
    "url_olvm_rhel = \"https://helpcenter.veeam.com/docs/vbrhv/userguide/used_ports.html\"\n",
    "url_proxmox = \"https://helpcenter.veeam.com/docs/vbproxmoxve/userguide/used_ports.html\"\n",
    "url_vcc = \"https://helpcenter.veeam.com/docs/backup/cloud/ports.html\"\n",
    "url_vro = \"https://helpcenter.veeam.com/docs/vro/userguide/ports.html\"\n",
    "\n",
    "url_vbaws = \"https://helpcenter.veeam.com/docs/vbaws/guide/ports.html\"\n",
    "url_vbaz = \"https://helpcenter.veeam.com/docs/vbazure/guide/ports.html\"\n",
    "url_gcp = \"https://helpcenter.veeam.com/docs/vbgc/guide/ports.html\"\n",
    "url_windows = \"https://helpcenter.veeam.com/docs/agentforwindows/userguide/ports.html\"\n",
    "url_linux = \"https://helpcenter.veeam.com/docs/agentforlinux/userguide/used_ports.html\"\n",
    "url_agent_man = \"https://helpcenter.veeam.com/docs/backup/agents/used_ports.html\"\n",
    "url_vone = \"https://helpcenter.veeam.com/docs/one/deployment/ports.html\"\n",
    "url_vspc = \"https://helpcenter.veeam.com/docs/vac/deployment/ports.html\"\n",
    "\n",
    "url_explore_ad = \"https://helpcenter.veeam.com/docs/backup/explorers/vead_ports.html\"\n",
    "url_explore_sql = \"https://helpcenter.veeam.com/docs/backup/explorers/vesql_used_ports.html\"\n",
    "url_explore_orcle = \"https://helpcenter.veeam.com/docs/backup/explorers/veo_used_ports.html\"\n",
    "url_explore_postgres = \"https://helpcenter.veeam.com/docs/backup/explorers/vep_used_ports.html\"\n",
    "url_explore_saphana = \"https://helpcenter.veeam.com/docs/backup/explorers/vemdb_used_ports.html\"\n",
    "url_explore_mongo = \"https://helpcenter.veeam.com/docs/backup/explorers/vemdb_used_ports.html\"\n",
    "\n",
    "url_explore_exchange = \"https://helpcenter.veeam.com/docs/backup/explorers/vex_ports.html\"\n",
    "url_explore_sharepoint = \"https://helpcenter.veeam.com/docs/backup/explorers/vesp_ports.html\"\n",
    "\n",
    "url_list = [url_vbo, url_vbr, url_vbaws, url_vbaz, url_gcp, url_windows, url_linux, url_agent_man, url_vspc, \n",
    "            url_explore_ad, url_explore_sql, url_explore_orcle, url_explore_postgres, url_explore_saphana, \n",
    "            url_explore_mongo, url_explore_exchange, url_explore_sharepoint]\n",
    "\n",
    "len(url_list)"
   ]
  },
  {
   "cell_type": "markdown",
   "metadata": {},
   "source": [
    "Create a function to handle the HTML to DataFrame conversion."
   ]
  },
  {
   "cell_type": "code",
   "execution_count": 3,
   "metadata": {},
   "outputs": [],
   "source": [
    "def html_to_dataframe(url, product):\n",
    "    html = requests.get(url)\n",
    "    df = pd.read_html(io.StringIO(html.text))\n",
    "    df = pd.concat(df)\n",
    "    df['Product'] = product\n",
    "    return df"
   ]
  },
  {
   "cell_type": "markdown",
   "metadata": {},
   "source": [
    "Run the function on all the URLs."
   ]
  },
  {
   "cell_type": "code",
   "execution_count": 4,
   "metadata": {
    "executionInfo": {
     "elapsed": 3818,
     "status": "ok",
     "timestamp": 1720537364622,
     "user": {
      "displayName": "Ed Howard (Mr X)",
      "userId": "07534693404549688478"
     },
     "user_tz": -60
    },
    "id": "2TkyXIv1ZY4l"
   },
   "outputs": [],
   "source": [
    "df_vbo = html_to_dataframe(url_vbo, \"VB365\")\n",
    "df_vbr = html_to_dataframe(url_vbr, \"VBR\")\n",
    "df_vbr_hyperv = html_to_dataframe(url_hyperv, \"VBR Hyper-V\")\n",
    "df_ahv = html_to_dataframe(url_hyperv, \"AHV\")\n",
    "df_url_olvm = html_to_dataframe(url_olvm_rhel, \"OLVM / RHV\")\n",
    "df_proxmox = html_to_dataframe(url_proxmox, \"Proxmox\")\n",
    "df_vro = html_to_dataframe(url_vro, \"VRO\")\n",
    "\n",
    "df_vbaws = html_to_dataframe(url_vbaws, \"VBAWS\")\n",
    "df_vbaz = html_to_dataframe(url_vbaz, \"VBAZ\")\n",
    "df_gcp = html_to_dataframe(url_gcp, \"VBGCP\")\n",
    "\n",
    "df_windows = html_to_dataframe(url_windows, \"Windows\")\n",
    "df_agent_man = html_to_dataframe(url_agent_man, \"Agent Management\")\n",
    "df_linux = html_to_dataframe(url_linux, \"Linux\")\n",
    "\n",
    "df_vone = html_to_dataframe(url_vone, \"VONE\")\n",
    "\n",
    "df_vspc = html_to_dataframe(url_vspc, \"VSPC\")\n",
    "df_vcc = html_to_dataframe(url_vcc, \"VCC\")\n",
    "\n",
    "df_explorer_ad = html_to_dataframe(url_explore_ad, \"Explorer AD\")\n",
    "df_explorer_sql = html_to_dataframe(url_explore_sql, \"Explorer SQL\")\n",
    "df_explorer_orcle = html_to_dataframe(url_explore_orcle, \"Explorer Oracle\")\n",
    "df_explorer_postgres = html_to_dataframe(url_explore_postgres, \"Explorer Postgres\")\n",
    "df_explorer_saphana = html_to_dataframe(url_explore_saphana, \"Explorer SAP HANA\")\n",
    "df_explorer_mongo = html_to_dataframe(url_explore_mongo, \"Explorer Mongo\")\n",
    "df_explorer_exchange = html_to_dataframe(url_explore_exchange, \"Explorer Exchange\")\n",
    "df_explorer_sharepoint = html_to_dataframe(url_explore_sharepoint, \"Explorer SharePoint\")\n",
    "# OneDrive needs the SharePoint ports\n",
    "# Teams needs the SharePoint and Exchange ports"
   ]
  },
  {
   "cell_type": "code",
   "execution_count": 5,
   "metadata": {},
   "outputs": [
    {
     "data": {
      "text/plain": [
       "24"
      ]
     },
     "execution_count": 5,
     "metadata": {},
     "output_type": "execute_result"
    }
   ],
   "source": [
    "df_list = [df_vbo, \n",
    "           df_vbr, \n",
    "           df_vbr_hyperv,\n",
    "           df_ahv,\n",
    "           df_url_olvm,\n",
    "           df_proxmox,\n",
    "           df_vro,\n",
    "           df_vbaws, \n",
    "           df_vbaz, \n",
    "           df_gcp, \n",
    "           df_windows, \n",
    "           df_agent_man, \n",
    "           df_linux, \n",
    "           df_vone, \n",
    "           df_vspc, \n",
    "           df_vcc,\n",
    "           df_explorer_ad, \n",
    "           df_explorer_sql, \n",
    "           df_explorer_orcle, \n",
    "           df_explorer_postgres, \n",
    "           df_explorer_saphana, \n",
    "           df_explorer_mongo, \n",
    "           df_explorer_exchange, \n",
    "           df_explorer_sharepoint]\n",
    "\n",
    "len(df_list)"
   ]
  },
  {
   "cell_type": "markdown",
   "metadata": {},
   "source": [
    "Concatinate all the DataFrames into a single DataFrame"
   ]
  },
  {
   "cell_type": "code",
   "execution_count": 6,
   "metadata": {
    "executionInfo": {
     "elapsed": 19,
     "status": "ok",
     "timestamp": 1720537364623,
     "user": {
      "displayName": "Ed Howard (Mr X)",
      "userId": "07534693404549688478"
     },
     "user_tz": -60
    },
    "id": "2kXYZz6O_fho"
   },
   "outputs": [],
   "source": [
    "combined_df = pd.concat(df_list, ignore_index=True)"
   ]
  },
  {
   "cell_type": "markdown",
   "metadata": {},
   "source": [
    "Add a product column"
   ]
  },
  {
   "cell_type": "code",
   "execution_count": 7,
   "metadata": {
    "executionInfo": {
     "elapsed": 18,
     "status": "ok",
     "timestamp": 1720537364623,
     "user": {
      "displayName": "Ed Howard (Mr X)",
      "userId": "07534693404549688478"
     },
     "user_tz": -60
    },
    "id": "0rtQ98GpE559"
   },
   "outputs": [],
   "source": [
    "combined_df['Description'] = np.where(combined_df['Notes'].notna(), combined_df['Notes'], combined_df['Description'])"
   ]
  },
  {
   "cell_type": "code",
   "execution_count": 8,
   "metadata": {},
   "outputs": [],
   "source": [
    "combined_df['Description'] = combined_df['Description'].fillna('')"
   ]
  },
  {
   "cell_type": "markdown",
   "metadata": {},
   "source": [
    "Remove the first and last column"
   ]
  },
  {
   "cell_type": "code",
   "execution_count": 9,
   "metadata": {
    "executionInfo": {
     "elapsed": 18,
     "status": "ok",
     "timestamp": 1720537364623,
     "user": {
      "displayName": "Ed Howard (Mr X)",
      "userId": "07534693404549688478"
     },
     "user_tz": -60
    },
    "id": "6ZoAXbEXZiUR"
   },
   "outputs": [],
   "source": [
    "combined_df.drop(columns=[0, combined_df.columns[-1]], inplace=True)"
   ]
  },
  {
   "cell_type": "code",
   "execution_count": 10,
   "metadata": {},
   "outputs": [],
   "source": [
    "combined_df.drop(columns=['Notes'], inplace=True)"
   ]
  },
  {
   "cell_type": "markdown",
   "metadata": {},
   "source": [
    "Drop all the NaN rows"
   ]
  },
  {
   "cell_type": "code",
   "execution_count": 11,
   "metadata": {
    "executionInfo": {
     "elapsed": 17,
     "status": "ok",
     "timestamp": 1720537364623,
     "user": {
      "displayName": "Ed Howard (Mr X)",
      "userId": "07534693404549688478"
     },
     "user_tz": -60
    },
    "id": "0e93m0enZy95"
   },
   "outputs": [],
   "source": [
    "combined_df.dropna(inplace=True)"
   ]
  },
  {
   "cell_type": "markdown",
   "metadata": {},
   "source": [
    "Remove some unneeded rows"
   ]
  },
  {
   "cell_type": "code",
   "execution_count": 12,
   "metadata": {},
   "outputs": [],
   "source": [
    "combined_df = combined_df[combined_df['To'] != 'Other Communications' ]\n",
    "combined_df = combined_df[combined_df['To'] != 'Communication with Virtualization Servers' ]\n",
    "combined_df = combined_df[combined_df['To'] != 'Communication with Backup Server' ]\n",
    "combined_df = combined_df[combined_df['To'] != 'Communication with Backup Infrastructure Components' ]"
   ]
  },
  {
   "cell_type": "markdown",
   "metadata": {},
   "source": [
    "Replace some hex values with their actual symbol."
   ]
  },
  {
   "cell_type": "code",
   "execution_count": 13,
   "metadata": {},
   "outputs": [],
   "source": [
    "combined_df.replace('â\\x80\\x94', '—', regex=True, inplace=True)"
   ]
  },
  {
   "cell_type": "code",
   "execution_count": 14,
   "metadata": {},
   "outputs": [],
   "source": [
    "combined_df.replace('Â\\xa0', ' ', regex=True, inplace=True)"
   ]
  },
  {
   "cell_type": "markdown",
   "metadata": {},
   "source": [
    "Check they have been removed"
   ]
  },
  {
   "cell_type": "code",
   "execution_count": 15,
   "metadata": {},
   "outputs": [
    {
     "data": {
      "text/plain": [
       "0"
      ]
     },
     "execution_count": 15,
     "metadata": {},
     "output_type": "execute_result"
    }
   ],
   "source": [
    "len(combined_df[combined_df['Description'].str.contains(r'Â\\xa0') == True])"
   ]
  },
  {
   "cell_type": "code",
   "execution_count": 16,
   "metadata": {},
   "outputs": [
    {
     "data": {
      "text/plain": [
       "0"
      ]
     },
     "execution_count": 16,
     "metadata": {},
     "output_type": "execute_result"
    }
   ],
   "source": [
    "len(combined_df[combined_df['Description'].str.contains(r'Â\\xa0BackupÂ\\xa0&Â\\xa0') == True])"
   ]
  },
  {
   "cell_type": "code",
   "execution_count": 17,
   "metadata": {},
   "outputs": [
    {
     "data": {
      "text/plain": [
       "0"
      ]
     },
     "execution_count": 17,
     "metadata": {},
     "output_type": "execute_result"
    }
   ],
   "source": [
    "len(combined_df[combined_df['To'].str.contains(r'Â\\xa0BackupÂ\\xa0&Â\\xa0') == True])"
   ]
  },
  {
   "cell_type": "markdown",
   "metadata": {},
   "source": [
    "Create the database connection"
   ]
  },
  {
   "cell_type": "code",
   "execution_count": 18,
   "metadata": {
    "executionInfo": {
     "elapsed": 17,
     "status": "ok",
     "timestamp": 1720537364623,
     "user": {
      "displayName": "Ed Howard (Mr X)",
      "userId": "07534693404549688478"
     },
     "user_tz": -60
    },
    "id": "Nc8Ts6sebmAc"
   },
   "outputs": [],
   "source": [
    "con = sqlite3.connect(\"allports.db\")"
   ]
  },
  {
   "cell_type": "code",
   "execution_count": 19,
   "metadata": {
    "executionInfo": {
     "elapsed": 17,
     "status": "ok",
     "timestamp": 1720537364623,
     "user": {
      "displayName": "Ed Howard (Mr X)",
      "userId": "07534693404549688478"
     },
     "user_tz": -60
    },
    "id": "s2BAW_QQbpMr"
   },
   "outputs": [],
   "source": [
    "cur = con.cursor()"
   ]
  },
  {
   "cell_type": "markdown",
   "metadata": {},
   "source": [
    "Create the table"
   ]
  },
  {
   "cell_type": "code",
   "execution_count": 20,
   "metadata": {
    "colab": {
     "base_uri": "https://localhost:8080/"
    },
    "executionInfo": {
     "elapsed": 17,
     "status": "ok",
     "timestamp": 1720537364624,
     "user": {
      "displayName": "Ed Howard (Mr X)",
      "userId": "07534693404549688478"
     },
     "user_tz": -60
    },
    "id": "gdI4tukUbuIz",
    "outputId": "896b03c4-47c6-4202-efc1-f20f23140c28"
   },
   "outputs": [
    {
     "data": {
      "text/plain": [
       "<sqlite3.Cursor at 0x12e6930c0>"
      ]
     },
     "execution_count": 20,
     "metadata": {},
     "output_type": "execute_result"
    }
   ],
   "source": [
    "cur.execute(\"CREATE TABLE IF NOT EXISTS all_ports(from_port TEXT, to_port TEXT, protocol TEXT, port TEXT, Description TEXT, Product TEXT)\")"
   ]
  },
  {
   "cell_type": "code",
   "execution_count": 21,
   "metadata": {
    "executionInfo": {
     "elapsed": 15,
     "status": "ok",
     "timestamp": 1720537364624,
     "user": {
      "displayName": "Ed Howard (Mr X)",
      "userId": "07534693404549688478"
     },
     "user_tz": -60
    },
    "id": "wIiUH960bunC"
   },
   "outputs": [],
   "source": [
    "for row in combined_df.itertuples(index=False):\n",
    "  cur.execute(\"INSERT INTO all_ports VALUES(?, ?, ?, ?, ?, ?)\", (str(row[0]).capitalize(), str(row[1]).capitalize(), str(row[2]), str(row[3]), str(row[4]), str(row[5])))\n",
    "con.commit()"
   ]
  },
  {
   "cell_type": "markdown",
   "metadata": {},
   "source": [
    "Run some checks to ensure it is all working as expected."
   ]
  },
  {
   "cell_type": "code",
   "execution_count": 22,
   "metadata": {
    "colab": {
     "base_uri": "https://localhost:8080/"
    },
    "executionInfo": {
     "elapsed": 13,
     "status": "ok",
     "timestamp": 1720537364624,
     "user": {
      "displayName": "Ed Howard (Mr X)",
      "userId": "07534693404549688478"
     },
     "user_tz": -60
    },
    "id": "7eoqhUaxmN8f",
    "outputId": "9b80f014-ca33-4301-d8cf-b71a59f2924e"
   },
   "outputs": [
    {
     "name": "stdout",
     "output_type": "stream",
     "text": [
      "VB365\n",
      "VBR\n",
      "VBR Hyper-V\n",
      "AHV\n",
      "OLVM / RHV\n",
      "Proxmox\n",
      "VRO\n",
      "VBAWS\n",
      "VBAZ\n",
      "VBGCP\n",
      "Windows\n",
      "Agent Management\n",
      "Linux\n",
      "VONE\n",
      "VSPC\n",
      "VCC\n",
      "Explorer AD\n",
      "Explorer SQL\n",
      "Explorer Oracle\n",
      "Explorer Postgres\n",
      "Explorer SAP HANA\n",
      "Explorer Mongo\n",
      "Explorer Exchange\n",
      "Explorer SharePoint\n"
     ]
    }
   ],
   "source": [
    "cur.execute(\"SELECT DISTINCT product FROM all_ports\")\n",
    "res = cur.fetchall()\n",
    "for r in res:\n",
    "  print(r[0])"
   ]
  },
  {
   "cell_type": "code",
   "execution_count": 23,
   "metadata": {
    "colab": {
     "base_uri": "https://localhost:8080/"
    },
    "executionInfo": {
     "elapsed": 12,
     "status": "ok",
     "timestamp": 1720537364624,
     "user": {
      "displayName": "Ed Howard (Mr X)",
      "userId": "07534693404549688478"
     },
     "user_tz": -60
    },
    "id": "zl0LItvve6Bc",
    "outputId": "d9ea2cc9-5a6a-4111-ed4b-2b48495c4dd6"
   },
   "outputs": [
    {
     "name": "stdout",
     "output_type": "stream",
     "text": [
      "9191\n",
      "9193\n",
      "443\n",
      "80 or 443\n",
      "25 or 465 or 587\n",
      "22\n",
      "5432 (used by default)\n",
      "4222 (used by default)\n"
     ]
    }
   ],
   "source": [
    "cur.execute(\"SELECT DISTINCT port FROM all_ports WHERE product = 'VB365' AND from_port = 'Backup proxy server1' AND protocol = 'TCP'\")\n",
    "res = cur.fetchall()\n",
    "for i in res:\n",
    "  print(i[0])"
   ]
  },
  {
   "cell_type": "code",
   "execution_count": 24,
   "metadata": {
    "executionInfo": {
     "elapsed": 10,
     "status": "ok",
     "timestamp": 1720537364625,
     "user": {
      "displayName": "Ed Howard (Mr X)",
      "userId": "07534693404549688478"
     },
     "user_tz": -60
    },
    "id": "q73cMKGrqaFv"
   },
   "outputs": [
    {
     "data": {
      "text/plain": [
       "19"
      ]
     },
     "execution_count": 24,
     "metadata": {},
     "output_type": "execute_result"
    }
   ],
   "source": [
    "cur.execute(\"SELECT COUNT(*)FROM all_ports WHERE Product = 'Linux'\")\n",
    "res = cur.fetchall()\n",
    "res[0][0]"
   ]
  },
  {
   "cell_type": "code",
   "execution_count": null,
   "metadata": {},
   "outputs": [],
   "source": []
  }
 ],
 "metadata": {
  "colab": {
   "authorship_tag": "ABX9TyPrxYwHSw6sRFpx41nWeGS0",
   "mount_file_id": "1yl9nGwzsLasyURBu0SWlyqR8h8klmoUB",
   "provenance": []
  },
  "kernelspec": {
   "display_name": "Python 3",
   "name": "python3"
  },
  "language_info": {
   "codemirror_mode": {
    "name": "ipython",
    "version": 3
   },
   "file_extension": ".py",
   "mimetype": "text/x-python",
   "name": "python",
   "nbconvert_exporter": "python",
   "pygments_lexer": "ipython3",
   "version": "3.12.0"
  }
 },
 "nbformat": 4,
 "nbformat_minor": 0
}
